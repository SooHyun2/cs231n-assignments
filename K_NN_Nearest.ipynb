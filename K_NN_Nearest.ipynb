{
  "nbformat": 4,
  "nbformat_minor": 0,
  "metadata": {
    "colab": {
      "name": "K-NN Nearest.ipynb",
      "provenance": [],
      "private_outputs": true,
      "authorship_tag": "ABX9TyPn17DkT5SIYfZ3VFH2Z+FX",
      "include_colab_link": true
    },
    "kernelspec": {
      "name": "python3",
      "display_name": "Python 3"
    }
  },
  "cells": [
    {
      "cell_type": "markdown",
      "metadata": {
        "id": "view-in-github",
        "colab_type": "text"
      },
      "source": [
        "<a href=\"https://colab.research.google.com/github/SooHyun2/cs231n-assignments/blob/main/K_NN_Nearest.ipynb\" target=\"_parent\"><img src=\"https://colab.research.google.com/assets/colab-badge.svg\" alt=\"Open In Colab\"/></a>"
      ]
    },
    {
      "cell_type": "markdown",
      "metadata": {
        "id": "BG2NERv01Syj"
      },
      "source": [
        "# KNN algorithm 실습 코드 with scikit-learn"
      ]
    },
    {
      "cell_type": "markdown",
      "metadata": {
        "id": "Q0RjAH7NRoWw"
      },
      "source": [
        "Data 모듈 불러오기 및 KNN 피팅"
      ]
    },
    {
      "cell_type": "code",
      "metadata": {
        "id": "0A3naLcSG7JF"
      },
      "source": [
        "from sklearn import neighbors, datasets\n",
        "\n",
        "\n",
        "import numpy as np\n",
        "import matplotlib.pyplot as plt\n",
        "from matplotlib.colors import ListedColormap\n",
        "from sklearn.metrics import confusion_matrix\n",
        "\n",
        "# iris 데이터 불러오기\n",
        "iris = datasets.load_iris()\n",
        "\n",
        "X = iris.data[:, :2] # 2개의 값으로 되어 있는데 X축의 값은 꽃잎 길이, y축의 값으로 꽃잎너비\n",
        "y = iris.target #label 데이터, 예측해야 할 (class) 데이터"
      ],
      "execution_count": null,
      "outputs": []
    },
    {
      "cell_type": "code",
      "metadata": {
        "id": "Vo8zJwRfSeIj"
      },
      "source": [
        "iris.keys()"
      ],
      "execution_count": null,
      "outputs": []
    },
    {
      "cell_type": "code",
      "metadata": {
        "id": "ZEbGeDiaShv3"
      },
      "source": [
        "model = neighbors.KNeighborsClassifier(5)\n",
        "model.fit(X,y)\n",
        "\n",
        "y_pred = model.predict(X)\n",
        "confusion_matrix(y,y_pred)"
      ],
      "execution_count": null,
      "outputs": []
    },
    {
      "cell_type": "markdown",
      "metadata": {
        "id": "esl-N1vp1IZQ"
      },
      "source": [
        "cross-validation을 이용해 적절한 K 찾기\n",
        "\n"
      ]
    },
    {
      "cell_type": "code",
      "metadata": {
        "id": "xwGImfsYUA1f"
      },
      "source": [
        "from sklearn.model_selection import cross_val_score\n",
        "k_range = range(1,100)\n",
        "k_scores = []\n",
        "\n",
        "for k in k_range:\n",
        "    knn = neighbors.KNeighborsClassifier(k)\n",
        "    scores = cross_val_score(knn, X, y, cv = 10, scoring='accuracy')\n",
        "    k_scores.append(scores.mean())\n",
        "\n",
        "plt.plot(k_range, k_scores)\n",
        "plt.xlabel('Value of K for KNN')\n",
        "plt.ylabel('Cross-validated accuracy')\n",
        "plt.show()"
      ],
      "execution_count": null,
      "outputs": []
    },
    {
      "cell_type": "markdown",
      "metadata": {
        "id": "8_xL6OX31nCj"
      },
      "source": [
        "Weight를 다르게 준 KNN"
      ]
    },
    {
      "cell_type": "code",
      "metadata": {
        "id": "CtM9arXAs5UY"
      },
      "source": [
        "n_neighbors = 45\n",
        "\n",
        "h = 0.02  # step size in the mesh\n",
        "\n",
        "cmap_light = ListedColormap(['#FFAAAA', '#AAFFAA', '#AAAAFF']) # Red ,Green, Blue HTML 코드\n",
        "cmap_bold = ListedColormap(['#FF0000', '#00FF00', '#0000FF']) # Red ,Green, Blue\n",
        "\n",
        "for weights in ['uniform', 'distance']: # uniform 은 동일한 가중치, distance는 분류할 때 샘플의 거리에 따라 다른 가중치 부여(가까울수록 큰 가중치)\n",
        "    clf = neighbors.KNeighborsClassifier(n_neighbors, weights=weights)\n",
        "    clf.fit(X, y)\n",
        "\n",
        "    # Plot the decision boundary. For that, we will assign a color to each\n",
        "    # point in the mesh [x_min, x_max]x[y_min, y_max].\n",
        "    x_min, x_max = X[:, 0].min() - 1, X[:, 0].max() + 1\n",
        "    y_min, y_max = X[:, 1].min() - 1, X[:, 1].max() + 1\n",
        "    xx, yy = np.meshgrid(np.arange(x_min, x_max, h),\n",
        "                         np.arange(y_min, y_max, h))\n",
        "    \n",
        "    Z = clf.predict(np.c_[xx.ravel(), yy.ravel()]) \n",
        "\n",
        "    # Put the result into a color plot\n",
        "    Z = Z.reshape(xx.shape)\n",
        "    plt.figure()\n",
        "    plt.pcolormesh(xx, yy, Z, cmap=cmap_light)\n",
        "\n",
        "    # Plot also the training points\n",
        "    plt.scatter(X[:, 0], X[:, 1], c=y, cmap=cmap_bold,\n",
        "                edgecolor='k', s=20)\n",
        "    plt.xlim(xx.min(), xx.max())\n",
        "    plt.ylim(yy.min(), yy.max())\n",
        "    plt.title(\"3-Class classification (k = %i, weights = '%s')\"\n",
        "              % (n_neighbors, weights))\n",
        "\n",
        "plt.show()"
      ],
      "execution_count": null,
      "outputs": []
    },
    {
      "cell_type": "code",
      "metadata": {
        "id": "vE5sDvIztXxT"
      },
      "source": [
        ""
      ],
      "execution_count": null,
      "outputs": []
    }
  ]
}